{
  "nbformat": 4,
  "nbformat_minor": 0,
  "metadata": {
    "colab": {
      "name": "BTPCode.ipynb",
      "provenance": [],
      "collapsed_sections": [],
      "authorship_tag": "ABX9TyNli1wAyR8JMXvsqS4yVU/x",
      "include_colab_link": true
    },
    "kernelspec": {
      "name": "python3",
      "display_name": "Python 3"
    },
    "language_info": {
      "name": "python"
    }
  },
  "cells": [
    {
      "cell_type": "markdown",
      "metadata": {
        "id": "view-in-github",
        "colab_type": "text"
      },
      "source": [
        "<a href=\"https://colab.research.google.com/github/atusharkm/hello-world/blob/master/BTPCode.ipynb\" target=\"_parent\"><img src=\"https://colab.research.google.com/assets/colab-badge.svg\" alt=\"Open In Colab\"/></a>"
      ]
    },
    {
      "cell_type": "code",
      "metadata": {
        "colab": {
          "base_uri": "https://localhost:8080/",
          "height": 1000
        },
        "id": "E4CXFqfrI1vJ",
        "outputId": "cb899f8f-fffb-4c94-e2cb-3d94ad57a26e"
      },
      "source": [
        "!pip install lazypredict"
      ],
      "execution_count": 2,
      "outputs": [
        {
          "output_type": "stream",
          "name": "stdout",
          "text": [
            "Collecting lazypredict\n",
            "  Downloading lazypredict-0.2.9-py2.py3-none-any.whl (12 kB)\n",
            "Collecting pytest==5.4.3\n",
            "  Downloading pytest-5.4.3-py3-none-any.whl (248 kB)\n",
            "\u001b[K     |████████████████████████████████| 248 kB 8.6 MB/s \n",
            "\u001b[?25hCollecting scipy==1.5.4\n",
            "  Downloading scipy-1.5.4-cp37-cp37m-manylinux1_x86_64.whl (25.9 MB)\n",
            "\u001b[K     |████████████████████████████████| 25.9 MB 847 bytes/s \n",
            "\u001b[?25hCollecting joblib==1.0.0\n",
            "  Downloading joblib-1.0.0-py3-none-any.whl (302 kB)\n",
            "\u001b[K     |████████████████████████████████| 302 kB 46.8 MB/s \n",
            "\u001b[?25hCollecting lightgbm==2.3.1\n",
            "  Downloading lightgbm-2.3.1-py2.py3-none-manylinux1_x86_64.whl (1.2 MB)\n",
            "\u001b[K     |████████████████████████████████| 1.2 MB 54.2 MB/s \n",
            "\u001b[?25hCollecting PyYAML==5.3.1\n",
            "  Downloading PyYAML-5.3.1.tar.gz (269 kB)\n",
            "\u001b[K     |████████████████████████████████| 269 kB 62.8 MB/s \n",
            "\u001b[?25hCollecting numpy==1.19.1\n",
            "  Downloading numpy-1.19.1-cp37-cp37m-manylinux2010_x86_64.whl (14.5 MB)\n",
            "\u001b[K     |████████████████████████████████| 14.5 MB 7.8 kB/s \n",
            "\u001b[?25hCollecting scikit-learn==0.23.1\n",
            "  Downloading scikit_learn-0.23.1-cp37-cp37m-manylinux1_x86_64.whl (6.8 MB)\n",
            "\u001b[K     |████████████████████████████████| 6.8 MB 23.3 MB/s \n",
            "\u001b[?25hCollecting tqdm==4.56.0\n",
            "  Downloading tqdm-4.56.0-py2.py3-none-any.whl (72 kB)\n",
            "\u001b[K     |████████████████████████████████| 72 kB 1.1 MB/s \n",
            "\u001b[?25hCollecting pandas==1.0.5\n",
            "  Downloading pandas-1.0.5-cp37-cp37m-manylinux1_x86_64.whl (10.1 MB)\n",
            "\u001b[K     |████████████████████████████████| 10.1 MB 30.2 MB/s \n",
            "\u001b[?25hCollecting xgboost==1.1.1\n",
            "  Downloading xgboost-1.1.1-py3-none-manylinux2010_x86_64.whl (127.6 MB)\n",
            "\u001b[K     |████████████████████████████████| 127.6 MB 7.8 kB/s \n",
            "\u001b[?25hRequirement already satisfied: six==1.15.0 in /usr/local/lib/python3.7/dist-packages (from lazypredict) (1.15.0)\n",
            "Requirement already satisfied: click==7.1.2 in /usr/local/lib/python3.7/dist-packages (from lazypredict) (7.1.2)\n",
            "Requirement already satisfied: pytz>=2017.2 in /usr/local/lib/python3.7/dist-packages (from pandas==1.0.5->lazypredict) (2018.9)\n",
            "Requirement already satisfied: python-dateutil>=2.6.1 in /usr/local/lib/python3.7/dist-packages (from pandas==1.0.5->lazypredict) (2.8.2)\n",
            "Requirement already satisfied: packaging in /usr/local/lib/python3.7/dist-packages (from pytest==5.4.3->lazypredict) (21.0)\n",
            "Requirement already satisfied: more-itertools>=4.0.0 in /usr/local/lib/python3.7/dist-packages (from pytest==5.4.3->lazypredict) (8.8.0)\n",
            "Requirement already satisfied: attrs>=17.4.0 in /usr/local/lib/python3.7/dist-packages (from pytest==5.4.3->lazypredict) (21.2.0)\n",
            "Requirement already satisfied: wcwidth in /usr/local/lib/python3.7/dist-packages (from pytest==5.4.3->lazypredict) (0.2.5)\n",
            "Requirement already satisfied: py>=1.5.0 in /usr/local/lib/python3.7/dist-packages (from pytest==5.4.3->lazypredict) (1.10.0)\n",
            "Requirement already satisfied: importlib-metadata>=0.12 in /usr/local/lib/python3.7/dist-packages (from pytest==5.4.3->lazypredict) (4.6.4)\n",
            "Collecting pluggy<1.0,>=0.12\n",
            "  Downloading pluggy-0.13.1-py2.py3-none-any.whl (18 kB)\n",
            "Collecting threadpoolctl>=2.0.0\n",
            "  Downloading threadpoolctl-2.2.0-py3-none-any.whl (12 kB)\n",
            "Requirement already satisfied: typing-extensions>=3.6.4 in /usr/local/lib/python3.7/dist-packages (from importlib-metadata>=0.12->pytest==5.4.3->lazypredict) (3.7.4.3)\n",
            "Requirement already satisfied: zipp>=0.5 in /usr/local/lib/python3.7/dist-packages (from importlib-metadata>=0.12->pytest==5.4.3->lazypredict) (3.5.0)\n",
            "Requirement already satisfied: pyparsing>=2.0.2 in /usr/local/lib/python3.7/dist-packages (from packaging->pytest==5.4.3->lazypredict) (2.4.7)\n",
            "Building wheels for collected packages: PyYAML\n",
            "  Building wheel for PyYAML (setup.py) ... \u001b[?25l\u001b[?25hdone\n",
            "  Created wheel for PyYAML: filename=PyYAML-5.3.1-cp37-cp37m-linux_x86_64.whl size=44635 sha256=afed24acc2e36dd04b32f3361a23b66f643b3de2940b5cec5e5f439622d59529\n",
            "  Stored in directory: /root/.cache/pip/wheels/5e/03/1e/e1e954795d6f35dfc7b637fe2277bff021303bd9570ecea653\n",
            "Successfully built PyYAML\n",
            "Installing collected packages: numpy, threadpoolctl, scipy, joblib, scikit-learn, pluggy, xgboost, tqdm, PyYAML, pytest, pandas, lightgbm, lazypredict\n",
            "  Attempting uninstall: numpy\n",
            "    Found existing installation: numpy 1.19.5\n",
            "    Uninstalling numpy-1.19.5:\n",
            "      Successfully uninstalled numpy-1.19.5\n",
            "  Attempting uninstall: scipy\n",
            "    Found existing installation: scipy 1.4.1\n",
            "    Uninstalling scipy-1.4.1:\n",
            "      Successfully uninstalled scipy-1.4.1\n",
            "  Attempting uninstall: joblib\n",
            "    Found existing installation: joblib 1.0.1\n",
            "    Uninstalling joblib-1.0.1:\n",
            "      Successfully uninstalled joblib-1.0.1\n",
            "  Attempting uninstall: scikit-learn\n",
            "    Found existing installation: scikit-learn 0.22.2.post1\n",
            "    Uninstalling scikit-learn-0.22.2.post1:\n",
            "      Successfully uninstalled scikit-learn-0.22.2.post1\n",
            "  Attempting uninstall: pluggy\n",
            "    Found existing installation: pluggy 0.7.1\n",
            "    Uninstalling pluggy-0.7.1:\n",
            "      Successfully uninstalled pluggy-0.7.1\n",
            "  Attempting uninstall: xgboost\n",
            "    Found existing installation: xgboost 0.90\n",
            "    Uninstalling xgboost-0.90:\n",
            "      Successfully uninstalled xgboost-0.90\n",
            "  Attempting uninstall: tqdm\n",
            "    Found existing installation: tqdm 4.62.0\n",
            "    Uninstalling tqdm-4.62.0:\n",
            "      Successfully uninstalled tqdm-4.62.0\n",
            "  Attempting uninstall: PyYAML\n",
            "    Found existing installation: PyYAML 3.13\n",
            "    Uninstalling PyYAML-3.13:\n",
            "      Successfully uninstalled PyYAML-3.13\n",
            "  Attempting uninstall: pytest\n",
            "    Found existing installation: pytest 3.6.4\n",
            "    Uninstalling pytest-3.6.4:\n",
            "      Successfully uninstalled pytest-3.6.4\n",
            "  Attempting uninstall: pandas\n",
            "    Found existing installation: pandas 1.1.5\n",
            "    Uninstalling pandas-1.1.5:\n",
            "      Successfully uninstalled pandas-1.1.5\n",
            "  Attempting uninstall: lightgbm\n",
            "    Found existing installation: lightgbm 2.2.3\n",
            "    Uninstalling lightgbm-2.2.3:\n",
            "      Successfully uninstalled lightgbm-2.2.3\n",
            "\u001b[31mERROR: pip's dependency resolver does not currently take into account all the packages that are installed. This behaviour is the source of the following dependency conflicts.\n",
            "tensorflow 2.6.0 requires numpy~=1.19.2, but you have numpy 1.19.1 which is incompatible.\n",
            "google-colab 1.0.0 requires pandas~=1.1.0; python_version >= \"3.0\", but you have pandas 1.0.5 which is incompatible.\n",
            "datascience 0.10.6 requires folium==0.2.1, but you have folium 0.8.3 which is incompatible.\n",
            "albumentations 0.1.12 requires imgaug<0.2.7,>=0.2.5, but you have imgaug 0.2.9 which is incompatible.\u001b[0m\n",
            "Successfully installed PyYAML-5.3.1 joblib-1.0.0 lazypredict-0.2.9 lightgbm-2.3.1 numpy-1.19.1 pandas-1.0.5 pluggy-0.13.1 pytest-5.4.3 scikit-learn-0.23.1 scipy-1.5.4 threadpoolctl-2.2.0 tqdm-4.56.0 xgboost-1.1.1\n"
          ]
        },
        {
          "output_type": "display_data",
          "data": {
            "application/vnd.colab-display-data+json": {
              "pip_warning": {
                "packages": [
                  "numpy",
                  "pandas"
                ]
              }
            }
          },
          "metadata": {}
        }
      ]
    },
    {
      "cell_type": "code",
      "metadata": {
        "id": "6tVQPakrB3cR"
      },
      "source": [
        "import lazypredict"
      ],
      "execution_count": 1,
      "outputs": []
    },
    {
      "cell_type": "code",
      "metadata": {
        "id": "GAXXPEm2JOMS",
        "colab": {
          "base_uri": "https://localhost:8080/"
        },
        "outputId": "abccbe02-d31e-4a6f-e54e-3c33d7d61764"
      },
      "source": [
        "from lazypredict.Supervised import LazyClassifier, LazyRegressor\n",
        "from sklearn.model_selection import train_test_split\n",
        "from sklearn import datasets"
      ],
      "execution_count": 2,
      "outputs": [
        {
          "output_type": "stream",
          "name": "stderr",
          "text": [
            "/usr/local/lib/python3.7/dist-packages/sklearn/utils/deprecation.py:143: FutureWarning: The sklearn.utils.testing module is  deprecated in version 0.22 and will be removed in version 0.24. The corresponding classes / functions should instead be imported from sklearn.utils. Anything that cannot be imported from sklearn.utils is now part of the private API.\n",
            "  warnings.warn(message, FutureWarning)\n"
          ]
        }
      ]
    },
    {
      "cell_type": "code",
      "metadata": {
        "id": "RRFBDlKBegNN"
      },
      "source": [
        "import numpy as np\n",
        "import pandas as pd\n",
        "import seaborn as sns\n",
        "import sklearn as sk\n",
        "import matplotlib.pyplot as plt"
      ],
      "execution_count": 3,
      "outputs": []
    },
    {
      "cell_type": "code",
      "metadata": {
        "id": "NvRhXBxIzVkD"
      },
      "source": [
        "df=pd.read_csv('Nusselt-I.csv', index_col = 0)"
      ],
      "execution_count": 4,
      "outputs": []
    },
    {
      "cell_type": "code",
      "metadata": {
        "colab": {
          "base_uri": "https://localhost:8080/",
          "height": 254
        },
        "id": "fpTPcNFe35yR",
        "outputId": "7a23dbb7-459a-4ce4-cc79-36688d911b9d"
      },
      "source": [
        "df.head()"
      ],
      "execution_count": 5,
      "outputs": [
        {
          "output_type": "execute_result",
          "data": {
            "text/html": [
              "<div>\n",
              "<style scoped>\n",
              "    .dataframe tbody tr th:only-of-type {\n",
              "        vertical-align: middle;\n",
              "    }\n",
              "\n",
              "    .dataframe tbody tr th {\n",
              "        vertical-align: top;\n",
              "    }\n",
              "\n",
              "    .dataframe thead th {\n",
              "        text-align: right;\n",
              "    }\n",
              "</style>\n",
              "<table border=\"1\" class=\"dataframe\">\n",
              "  <thead>\n",
              "    <tr style=\"text-align: right;\">\n",
              "      <th></th>\n",
              "      <th>Re</th>\n",
              "      <th>TL_OUT</th>\n",
              "      <th>TU_OUT</th>\n",
              "      <th>Tb</th>\n",
              "      <th>Tb_max</th>\n",
              "      <th>PL_in</th>\n",
              "      <th>PL_out</th>\n",
              "      <th>PU_in</th>\n",
              "      <th>PU_out</th>\n",
              "      <th>hi</th>\n",
              "      <th>wc</th>\n",
              "      <th>ho</th>\n",
              "      <th>Dhi</th>\n",
              "      <th>Dho</th>\n",
              "      <th>Dh_m</th>\n",
              "      <th>vin</th>\n",
              "      <th>del_PL</th>\n",
              "      <th>del_PU</th>\n",
              "      <th>del_p</th>\n",
              "      <th>Rth</th>\n",
              "      <th>T_mean</th>\n",
              "      <th>h_mean</th>\n",
              "      <th>Nu</th>\n",
              "      <th>f</th>\n",
              "    </tr>\n",
              "    <tr>\n",
              "      <th>TF</th>\n",
              "      <th></th>\n",
              "      <th></th>\n",
              "      <th></th>\n",
              "      <th></th>\n",
              "      <th></th>\n",
              "      <th></th>\n",
              "      <th></th>\n",
              "      <th></th>\n",
              "      <th></th>\n",
              "      <th></th>\n",
              "      <th></th>\n",
              "      <th></th>\n",
              "      <th></th>\n",
              "      <th></th>\n",
              "      <th></th>\n",
              "      <th></th>\n",
              "      <th></th>\n",
              "      <th></th>\n",
              "      <th></th>\n",
              "      <th></th>\n",
              "      <th></th>\n",
              "      <th></th>\n",
              "      <th></th>\n",
              "      <th></th>\n",
              "    </tr>\n",
              "  </thead>\n",
              "  <tbody>\n",
              "    <tr>\n",
              "      <th>0.26</th>\n",
              "      <td>200</td>\n",
              "      <td>297.44</td>\n",
              "      <td>295.19</td>\n",
              "      <td>302.45</td>\n",
              "      <td>303.53</td>\n",
              "      <td>41208.00</td>\n",
              "      <td>216.97</td>\n",
              "      <td>41208.00</td>\n",
              "      <td>215.59</td>\n",
              "      <td>833.33</td>\n",
              "      <td>100</td>\n",
              "      <td>216.67</td>\n",
              "      <td>178.57</td>\n",
              "      <td>136.84</td>\n",
              "      <td>157.71</td>\n",
              "      <td>1.13</td>\n",
              "      <td>40991.03</td>\n",
              "      <td>40992.41</td>\n",
              "      <td>40991.72</td>\n",
              "      <td>0.10</td>\n",
              "      <td>294.73</td>\n",
              "      <td>129575.64</td>\n",
              "      <td>34.06</td>\n",
              "      <td>0.26</td>\n",
              "    </tr>\n",
              "    <tr>\n",
              "      <th>0.28</th>\n",
              "      <td>200</td>\n",
              "      <td>297.49</td>\n",
              "      <td>295.22</td>\n",
              "      <td>302.50</td>\n",
              "      <td>303.58</td>\n",
              "      <td>38459.00</td>\n",
              "      <td>189.69</td>\n",
              "      <td>38458.00</td>\n",
              "      <td>188.56</td>\n",
              "      <td>820.31</td>\n",
              "      <td>100</td>\n",
              "      <td>229.69</td>\n",
              "      <td>178.27</td>\n",
              "      <td>139.34</td>\n",
              "      <td>158.80</td>\n",
              "      <td>1.13</td>\n",
              "      <td>38269.31</td>\n",
              "      <td>38269.44</td>\n",
              "      <td>38269.38</td>\n",
              "      <td>0.10</td>\n",
              "      <td>294.75</td>\n",
              "      <td>129073.89</td>\n",
              "      <td>34.16</td>\n",
              "      <td>0.24</td>\n",
              "    </tr>\n",
              "    <tr>\n",
              "      <th>0.30</th>\n",
              "      <td>200</td>\n",
              "      <td>297.55</td>\n",
              "      <td>295.25</td>\n",
              "      <td>302.54</td>\n",
              "      <td>303.63</td>\n",
              "      <td>36143.00</td>\n",
              "      <td>167.35</td>\n",
              "      <td>36143.00</td>\n",
              "      <td>167.49</td>\n",
              "      <td>807.69</td>\n",
              "      <td>100</td>\n",
              "      <td>242.31</td>\n",
              "      <td>177.97</td>\n",
              "      <td>141.57</td>\n",
              "      <td>159.77</td>\n",
              "      <td>1.13</td>\n",
              "      <td>35975.65</td>\n",
              "      <td>35975.51</td>\n",
              "      <td>35975.58</td>\n",
              "      <td>0.10</td>\n",
              "      <td>294.77</td>\n",
              "      <td>128783.00</td>\n",
              "      <td>34.29</td>\n",
              "      <td>0.23</td>\n",
              "    </tr>\n",
              "    <tr>\n",
              "      <th>0.32</th>\n",
              "      <td>200</td>\n",
              "      <td>297.60</td>\n",
              "      <td>295.29</td>\n",
              "      <td>302.59</td>\n",
              "      <td>303.68</td>\n",
              "      <td>34168.00</td>\n",
              "      <td>148.95</td>\n",
              "      <td>34167.00</td>\n",
              "      <td>149.05</td>\n",
              "      <td>795.45</td>\n",
              "      <td>100</td>\n",
              "      <td>254.55</td>\n",
              "      <td>177.66</td>\n",
              "      <td>143.59</td>\n",
              "      <td>160.63</td>\n",
              "      <td>1.13</td>\n",
              "      <td>34019.05</td>\n",
              "      <td>34017.95</td>\n",
              "      <td>34018.50</td>\n",
              "      <td>0.11</td>\n",
              "      <td>294.80</td>\n",
              "      <td>128328.52</td>\n",
              "      <td>34.36</td>\n",
              "      <td>0.21</td>\n",
              "    </tr>\n",
              "    <tr>\n",
              "      <th>0.34</th>\n",
              "      <td>200</td>\n",
              "      <td>297.65</td>\n",
              "      <td>295.32</td>\n",
              "      <td>302.63</td>\n",
              "      <td>303.72</td>\n",
              "      <td>32462.00</td>\n",
              "      <td>133.97</td>\n",
              "      <td>32461.00</td>\n",
              "      <td>133.73</td>\n",
              "      <td>783.58</td>\n",
              "      <td>100</td>\n",
              "      <td>266.42</td>\n",
              "      <td>177.36</td>\n",
              "      <td>145.42</td>\n",
              "      <td>161.39</td>\n",
              "      <td>1.13</td>\n",
              "      <td>32328.03</td>\n",
              "      <td>32327.27</td>\n",
              "      <td>32327.65</td>\n",
              "      <td>0.11</td>\n",
              "      <td>294.82</td>\n",
              "      <td>128000.00</td>\n",
              "      <td>34.43</td>\n",
              "      <td>0.20</td>\n",
              "    </tr>\n",
              "  </tbody>\n",
              "</table>\n",
              "</div>"
            ],
            "text/plain": [
              "       Re   TL_OUT  TU_OUT     Tb  Tb_max  ...  Rth  T_mean    h_mean    Nu    f\n",
              "TF                                         ...                                  \n",
              "0.26   200  297.44  295.19 302.45  303.53  ... 0.10  294.73 129575.64 34.06 0.26\n",
              "0.28   200  297.49  295.22 302.50  303.58  ... 0.10  294.75 129073.89 34.16 0.24\n",
              "0.30   200  297.55  295.25 302.54  303.63  ... 0.10  294.77 128783.00 34.29 0.23\n",
              "0.32   200  297.60  295.29 302.59  303.68  ... 0.11  294.80 128328.52 34.36 0.21\n",
              "0.34   200  297.65  295.32 302.63  303.72  ... 0.11  294.82 128000.00 34.43 0.20\n",
              "\n",
              "[5 rows x 24 columns]"
            ]
          },
          "metadata": {},
          "execution_count": 5
        }
      ]
    },
    {
      "cell_type": "code",
      "metadata": {
        "id": "uoHe8Us04lNi"
      },
      "source": [
        "row, col= df.shape"
      ],
      "execution_count": 6,
      "outputs": []
    },
    {
      "cell_type": "code",
      "metadata": {
        "colab": {
          "base_uri": "https://localhost:8080/"
        },
        "id": "PcLg7_TY6rzc",
        "outputId": "51f3e3d3-461c-4186-d0bf-b7ebdbdf8818"
      },
      "source": [
        "print(row, col)"
      ],
      "execution_count": 7,
      "outputs": [
        {
          "output_type": "stream",
          "name": "stdout",
          "text": [
            "80 24\n"
          ]
        }
      ]
    },
    {
      "cell_type": "code",
      "metadata": {
        "id": "Ypw7EV486w60"
      },
      "source": [
        "sns.set()"
      ],
      "execution_count": 8,
      "outputs": []
    },
    {
      "cell_type": "code",
      "metadata": {
        "id": "SWwfsWDe7SPP"
      },
      "source": [
        "corr=df.corr()"
      ],
      "execution_count": 9,
      "outputs": []
    },
    {
      "cell_type": "code",
      "metadata": {
        "colab": {
          "base_uri": "https://localhost:8080/",
          "height": 323
        },
        "id": "dK7gN5Jn9MRD",
        "outputId": "f2f72758-4eb2-4099-8694-26a8a3f4b318"
      },
      "source": [
        "sns.heatmap(corr)"
      ],
      "execution_count": 10,
      "outputs": [
        {
          "output_type": "execute_result",
          "data": {
            "text/plain": [
              "<matplotlib.axes._subplots.AxesSubplot at 0x7fc0bc7c2e10>"
            ]
          },
          "metadata": {},
          "execution_count": 10
        },
        {
          "output_type": "display_data",
          "data": {
            "image/png": "[encoded data removed]",
            "text/plain": [
              "<Figure size 432x288 with 2 Axes>"
            ]
          },
          "metadata": {}
        }
      ]
    },
    {
      "cell_type": "code",
      "metadata": {
        "id": "CSAohgzP9MhR"
      },
      "source": [
        "X = df[df.columns[range(23)]]\n",
        "y=df['Nu']"
      ],
      "execution_count": 11,
      "outputs": []
    },
    {
      "cell_type": "code",
      "metadata": {
        "colab": {
          "base_uri": "https://localhost:8080/"
        },
        "id": "MoTEtMXQ9NF7",
        "outputId": "9885c508-ae16-4c61-91c8-3c81300e62fe"
      },
      "source": [
        "X_train, X_test, y_train, y_test = train_test_split(X, y,test_size=.25,random_state =42)\n",
        "\n",
        "reg = LazyRegressor(predictions=True)\n",
        "models, predictions = reg.fit(X_train, X_test, y_train, y_test)\n",
        "\n",
        "\n",
        "print(models)"
      ],
      "execution_count": 12,
      "outputs": [
        {
          "output_type": "stream",
          "name": "stderr",
          "text": [
            "100%|██████████| 42/42 [00:01<00:00, 25.82it/s]"
          ]
        },
        {
          "output_type": "stream",
          "name": "stdout",
          "text": [
            "                               Adjusted R-Squared  R-Squared  RMSE  Time Taken\n",
            "Model                                                                         \n",
            "KernelRidge                               1005.76    -210.53 38.54        0.02\n",
            "MLPRegressor                               173.55     -35.33 15.97        0.16\n",
            "GaussianProcessRegressor                    23.62      -3.76  5.78        0.02\n",
            "LassoLars                                    5.79      -0.01  2.66        0.02\n",
            "DummyRegressor                               5.79      -0.01  2.66        0.01\n",
            "Lasso                                        1.70       0.85  1.01        0.02\n",
            "LGBMRegressor                                1.45       0.91  0.81        0.03\n",
            "HistGradientBoostingRegressor                1.38       0.92  0.75        0.07\n",
            "ExtraTreeRegressor                           1.38       0.92  0.75        0.02\n",
            "ElasticNet                                   1.35       0.93  0.72        0.01\n",
            "KNeighborsRegressor                          1.10       0.98  0.38        0.01\n",
            "SVR                                          1.06       0.99  0.31        0.01\n",
            "NuSVR                                        1.05       0.99  0.28        0.02\n",
            "GeneralizedLinearRegressor                   1.05       0.99  0.28        0.02\n",
            "TweedieRegressor                             1.05       0.99  0.28        0.01\n",
            "GammaRegressor                               1.05       0.99  0.26        0.01\n",
            "RandomForestRegressor                        1.04       0.99  0.26        0.16\n",
            "BaggingRegressor                             1.02       1.00  0.17        0.03\n",
            "SGDRegressor                                 1.01       1.00  0.11        0.01\n",
            "PassiveAggressiveRegressor                   1.00       1.00  0.08        0.01\n",
            "XGBRegressor                                 1.00       1.00  0.07        0.16\n",
            "AdaBoostRegressor                            1.00       1.00  0.06        0.10\n",
            "PoissonRegressor                             1.00       1.00  0.05        0.02\n",
            "DecisionTreeRegressor                        1.00       1.00  0.05        0.01\n",
            "ExtraTreesRegressor                          1.00       1.00  0.05        0.13\n",
            "Ridge                                        1.00       1.00  0.05        0.02\n",
            "ElasticNetCV                                 1.00       1.00  0.04        0.09\n",
            "GradientBoostingRegressor                    1.00       1.00  0.04        0.09\n",
            "LassoCV                                      1.00       1.00  0.04        0.09\n",
            "RidgeCV                                      1.00       1.00  0.02        0.01\n",
            "LinearSVR                                    1.00       1.00  0.02        0.02\n",
            "HuberRegressor                               1.00       1.00  0.01        0.05\n",
            "BayesianRidge                                1.00       1.00  0.00        0.02\n",
            "LassoLarsCV                                  1.00       1.00  0.00        0.02\n",
            "Lars                                         1.00       1.00  0.00        0.02\n",
            "TransformedTargetRegressor                   1.00       1.00  0.00        0.01\n",
            "RANSACRegressor                              1.00       1.00  0.00        0.01\n",
            "LarsCV                                       1.00       1.00  0.00        0.03\n",
            "LassoLarsIC                                  1.00       1.00  0.00        0.01\n",
            "OrthogonalMatchingPursuitCV                  1.00       1.00  0.00        0.02\n",
            "OrthogonalMatchingPursuit                    1.00       1.00  0.00        0.01\n",
            "LinearRegression                             1.00       1.00  0.00        0.01\n"
          ]
        },
        {
          "output_type": "stream",
          "name": "stderr",
          "text": [
            "\n"
          ]
        }
      ]
    },
    {
      "cell_type": "code",
      "metadata": {
        "colab": {
          "base_uri": "https://localhost:8080/"
        },
        "id": "fE2gTAuNBRu6",
        "outputId": "68661692-fef5-401a-8dd8-c6adf84466c8"
      },
      "source": [
        "print(X)"
      ],
      "execution_count": 13,
      "outputs": [
        {
          "output_type": "stream",
          "name": "stdout",
          "text": [
            "       Re   TL_OUT  TU_OUT     Tb  Tb_max  ...    del_p  Rth  T_mean    h_mean    Nu\n",
            "TF                                         ...                                      \n",
            "0.26   200  297.44  295.19 302.45  303.53  ... 40991.72 0.10  294.73 129575.64 34.06\n",
            "0.28   200  297.49  295.22 302.50  303.58  ... 38269.38 0.10  294.75 129073.89 34.16\n",
            "0.30   200  297.55  295.25 302.54  303.63  ... 35975.58 0.10  294.77 128783.00 34.29\n",
            "0.32   200  297.60  295.29 302.59  303.68  ... 34018.50 0.11  294.80 128328.52 34.36\n",
            "0.34   200  297.65  295.32 302.63  303.72  ... 32327.65 0.11  294.82 128000.00 34.43\n",
            "...    ...     ...     ...    ...     ...  ...      ...  ...     ...       ...   ...\n",
            "0.48   600  295.36  293.94 300.47  301.34  ... 95515.93 0.08  293.90 152207.00 41.84\n",
            "0.50   600  295.38  293.95 300.50  301.38  ... 91727.60 0.08  293.91 151687.52 41.78\n",
            "0.52   600  295.40  293.96 300.52  301.42  ... 88284.81 0.08  293.92 151400.45 41.78\n",
            "0.54   600  295.43  293.98 300.55  301.45  ... 85143.10 0.08  293.93 151000.38 41.74\n",
            "0.56   600  295.45  293.99 300.58  301.49  ... 82264.29 0.08  293.94 150489.09 41.66\n",
            "\n",
            "[80 rows x 23 columns]\n"
          ]
        }
      ]
    },
    {
      "cell_type": "code",
      "metadata": {
        "colab": {
          "base_uri": "https://localhost:8080/"
        },
        "id": "oLLX7HAFBR-R",
        "outputId": "9c384322-6e76-4c2c-b896-caac84c5b73d"
      },
      "source": [
        "print(y)"
      ],
      "execution_count": 14,
      "outputs": [
        {
          "output_type": "stream",
          "name": "stdout",
          "text": [
            "TF\n",
            "0.26   34.06\n",
            "0.28   34.16\n",
            "0.30   34.29\n",
            "0.32   34.36\n",
            "0.34   34.43\n",
            "        ... \n",
            "0.48   41.84\n",
            "0.50   41.78\n",
            "0.52   41.78\n",
            "0.54   41.74\n",
            "0.56   41.66\n",
            "Name: Nu, Length: 80, dtype: float64\n"
          ]
        }
      ]
    },
    {
      "cell_type": "code",
      "metadata": {
        "colab": {
          "base_uri": "https://localhost:8080/"
        },
        "id": "W8Ii9kTIBSFx",
        "outputId": "836e5a52-b752-4c9d-aa4b-084df01d614a"
      },
      "source": [
        "print(y_train)"
      ],
      "execution_count": 15,
      "outputs": [
        {
          "output_type": "stream",
          "name": "stdout",
          "text": [
            "TF\n",
            "0.44   34.48\n",
            "0.26   41.70\n",
            "0.36   34.44\n",
            "0.56   38.73\n",
            "0.30   38.76\n",
            "0.54   40.31\n",
            "0.46   38.92\n",
            "0.38   40.56\n",
            "0.26   36.56\n",
            "0.40   38.95\n",
            "0.42   40.52\n",
            "0.56   41.66\n",
            "0.40   34.51\n",
            "0.30   40.39\n",
            "0.36   40.51\n",
            "0.32   36.87\n",
            "0.30   41.87\n",
            "0.44   37.03\n",
            "0.50   38.87\n",
            "0.52   34.44\n",
            "0.50   41.78\n",
            "0.32   34.36\n",
            "0.28   36.70\n",
            "0.38   38.92\n",
            "0.42   34.48\n",
            "0.28   41.80\n",
            "0.38   34.49\n",
            "0.34   38.86\n",
            "0.42   41.93\n",
            "0.46   40.49\n",
            "0.54   38.80\n",
            "0.54   41.74\n",
            "0.56   34.36\n",
            "0.48   36.99\n",
            "0.44   38.92\n",
            "0.46   36.98\n",
            "0.26   40.21\n",
            "0.42   37.00\n",
            "0.48   38.88\n",
            "0.52   41.78\n",
            "0.44   40.52\n",
            "0.48   34.46\n",
            "0.26   38.55\n",
            "0.48   41.84\n",
            "0.48   40.46\n",
            "0.56   40.31\n",
            "0.36   41.96\n",
            "0.36   38.92\n",
            "0.52   36.91\n",
            "0.28   34.16\n",
            "0.34   40.53\n",
            "0.36   36.95\n",
            "0.30   34.29\n",
            "0.40   37.01\n",
            "0.46   41.88\n",
            "0.34   36.92\n",
            "0.50   40.42\n",
            "0.40   42.02\n",
            "0.54   34.41\n",
            "0.32   40.49\n",
            "Name: Nu, dtype: float64\n"
          ]
        }
      ]
    },
    {
      "cell_type": "code",
      "metadata": {
        "colab": {
          "base_uri": "https://localhost:8080/"
        },
        "id": "p3cgRJQ5BSIW",
        "outputId": "5f44b794-ca2c-4509-e81e-9ba4649dc2ec"
      },
      "source": [
        "from lazypredict.Supervised import LazyRegressor\n",
        "from sklearn import datasets\n",
        "from sklearn.utils import shuffle\n",
        "import numpy as np\n",
        "\n",
        "boston = datasets.load_boston()\n",
        "X, y = shuffle(boston.data, boston.target, random_state=13)\n",
        "\n",
        "\n",
        "offset = int(X.shape[0] * 0.9)\n",
        "\n",
        "X_train, y_train = X[:offset], y[:offset]\n",
        "X_test, y_test = X[offset:], y[offset:]\n",
        "\n",
        "reg = LazyRegressor(verbose=0, ignore_warnings=False, custom_metric=None)\n",
        "models, predictions = reg.fit(X_train, X_test, y_train, y_test)\n",
        "\n",
        "print(models)"
      ],
      "execution_count": 16,
      "outputs": [
        {
          "output_type": "stream",
          "name": "stderr",
          "text": [
            "100%|██████████| 42/42 [00:03<00:00, 13.85it/s]"
          ]
        },
        {
          "output_type": "stream",
          "name": "stdout",
          "text": [
            "                               Adjusted R-Squared  R-Squared  RMSE  Time Taken\n",
            "Model                                                                         \n",
            "SVR                                          0.83       0.88  2.62        0.03\n",
            "BaggingRegressor                             0.83       0.88  2.63        0.05\n",
            "NuSVR                                        0.82       0.86  2.76        0.04\n",
            "RandomForestRegressor                        0.81       0.86  2.79        0.37\n",
            "XGBRegressor                                 0.81       0.86  2.79        0.10\n",
            "GradientBoostingRegressor                    0.81       0.86  2.84        0.18\n",
            "ExtraTreesRegressor                          0.79       0.84  2.98        0.22\n",
            "HistGradientBoostingRegressor                0.77       0.83  3.06        0.29\n",
            "AdaBoostRegressor                            0.77       0.83  3.06        0.12\n",
            "PoissonRegressor                             0.77       0.83  3.11        0.02\n",
            "LGBMRegressor                                0.77       0.83  3.11        0.07\n",
            "KNeighborsRegressor                          0.77       0.83  3.12        0.02\n",
            "DecisionTreeRegressor                        0.65       0.74  3.79        0.01\n",
            "MLPRegressor                                 0.65       0.74  3.80        0.69\n",
            "HuberRegressor                               0.64       0.74  3.84        0.02\n",
            "GammaRegressor                               0.64       0.73  3.88        0.01\n",
            "LinearSVR                                    0.62       0.72  3.96        0.01\n",
            "RidgeCV                                      0.62       0.72  3.97        0.01\n",
            "BayesianRidge                                0.62       0.72  3.97        0.01\n",
            "Ridge                                        0.62       0.72  3.97        0.01\n",
            "TransformedTargetRegressor                   0.62       0.72  3.97        0.01\n",
            "LinearRegression                             0.62       0.72  3.97        0.01\n",
            "ElasticNetCV                                 0.62       0.72  3.98        0.08\n",
            "LassoCV                                      0.62       0.72  3.98        0.08\n",
            "LassoLarsIC                                  0.62       0.72  3.98        0.02\n",
            "LassoLarsCV                                  0.62       0.72  3.98        0.04\n",
            "Lars                                         0.61       0.72  3.99        0.04\n",
            "LarsCV                                       0.61       0.71  4.02        0.09\n",
            "SGDRegressor                                 0.60       0.70  4.07        0.02\n",
            "TweedieRegressor                             0.59       0.70  4.12        0.02\n",
            "GeneralizedLinearRegressor                   0.59       0.70  4.12        0.02\n",
            "ElasticNet                                   0.58       0.69  4.16        0.01\n",
            "Lasso                                        0.54       0.66  4.35        0.02\n",
            "RANSACRegressor                              0.53       0.65  4.41        0.07\n",
            "OrthogonalMatchingPursuitCV                  0.45       0.59  4.78        0.02\n",
            "PassiveAggressiveRegressor                   0.37       0.54  5.09        0.02\n",
            "GaussianProcessRegressor                     0.23       0.43  5.65        0.04\n",
            "OrthogonalMatchingPursuit                    0.16       0.38  5.89        0.02\n",
            "ExtraTreeRegressor                           0.08       0.32  6.17        0.01\n",
            "DummyRegressor                              -0.38      -0.02  7.56        0.01\n",
            "LassoLars                                   -0.38      -0.02  7.56        0.01\n",
            "KernelRidge                                -11.50      -8.25 22.74        0.07\n"
          ]
        },
        {
          "output_type": "stream",
          "name": "stderr",
          "text": [
            "\n"
          ]
        }
      ]
    },
    {
      "cell_type": "code",
      "metadata": {
        "id": "wxto6mifBSVd"
      },
      "source": [
        ""
      ],
      "execution_count": null,
      "outputs": []
    },
    {
      "cell_type": "markdown",
      "metadata": {
        "id": "AyYmRpRy9Ir4"
      },
      "source": [
        "\n",
        "\n",
        "> Indented block\n",
        "\n"
      ]
    }
  ]
}