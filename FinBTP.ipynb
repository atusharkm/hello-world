{
  "nbformat": 4,
  "nbformat_minor": 0,
  "metadata": {
    "colab": {
      "name": "FinBTP.ipynb",
      "provenance": [],
      "authorship_tag": "ABX9TyPoyNH1tDYKX96WwLJsXY1i",
      "include_colab_link": true
    },
    "kernelspec": {
      "name": "python3",
      "display_name": "Python 3"
    },
    "language_info": {
      "name": "python"
    }
  },
  "cells": [
    {
      "cell_type": "markdown",
      "metadata": {
        "id": "view-in-github",
        "colab_type": "text"
      },
      "source": [
        "<a href=\"https://colab.research.google.com/github/atusharkm/hello-world/blob/master/FinBTP.ipynb\" target=\"_parent\"><img src=\"https://colab.research.google.com/assets/colab-badge.svg\" alt=\"Open In Colab\"/></a>"
      ]
    },
    {
      "cell_type": "code",
      "metadata": {
        "colab": {
          "base_uri": "https://localhost:8080/",
          "height": 1000
        },
        "id": "uk4mzFnJKFKh",
        "outputId": "caa7a093-e72d-489e-cba0-c296fef51561"
      },
      "source": [
        "!pip install lazypredict"
      ],
      "execution_count": 1,
      "outputs": [
        {
          "output_type": "stream",
          "name": "stdout",
          "text": [
            "Collecting lazypredict\n",
            "  Downloading lazypredict-0.2.9-py2.py3-none-any.whl (12 kB)\n",
            "Collecting scikit-learn==0.23.1\n",
            "  Downloading scikit_learn-0.23.1-cp37-cp37m-manylinux1_x86_64.whl (6.8 MB)\n",
            "\u001b[K     |████████████████████████████████| 6.8 MB 10.9 MB/s \n",
            "\u001b[?25hCollecting PyYAML==5.3.1\n",
            "  Downloading PyYAML-5.3.1.tar.gz (269 kB)\n",
            "\u001b[K     |████████████████████████████████| 269 kB 71.1 MB/s \n",
            "\u001b[?25hCollecting pytest==5.4.3\n",
            "  Downloading pytest-5.4.3-py3-none-any.whl (248 kB)\n",
            "\u001b[K     |████████████████████████████████| 248 kB 53.6 MB/s \n",
            "\u001b[?25hCollecting joblib==1.0.0\n",
            "  Downloading joblib-1.0.0-py3-none-any.whl (302 kB)\n",
            "\u001b[K     |████████████████████████████████| 302 kB 80.4 MB/s \n",
            "\u001b[?25hCollecting tqdm==4.56.0\n",
            "  Downloading tqdm-4.56.0-py2.py3-none-any.whl (72 kB)\n",
            "\u001b[K     |████████████████████████████████| 72 kB 797 kB/s \n",
            "\u001b[?25hCollecting lightgbm==2.3.1\n",
            "  Downloading lightgbm-2.3.1-py2.py3-none-manylinux1_x86_64.whl (1.2 MB)\n",
            "\u001b[K     |████████████████████████████████| 1.2 MB 69.6 MB/s \n",
            "\u001b[?25hCollecting scipy==1.5.4\n",
            "  Downloading scipy-1.5.4-cp37-cp37m-manylinux1_x86_64.whl (25.9 MB)\n",
            "\u001b[K     |████████████████████████████████| 25.9 MB 1.1 kB/s \n",
            "\u001b[?25hCollecting xgboost==1.1.1\n",
            "  Downloading xgboost-1.1.1-py3-none-manylinux2010_x86_64.whl (127.6 MB)\n",
            "\u001b[K     |████████████████████████████████| 127.6 MB 7.2 kB/s \n",
            "\u001b[?25hRequirement already satisfied: click==7.1.2 in /usr/local/lib/python3.7/dist-packages (from lazypredict) (7.1.2)\n",
            "Requirement already satisfied: six==1.15.0 in /usr/local/lib/python3.7/dist-packages (from lazypredict) (1.15.0)\n",
            "Collecting numpy==1.19.1\n",
            "  Downloading numpy-1.19.1-cp37-cp37m-manylinux2010_x86_64.whl (14.5 MB)\n",
            "\u001b[K     |████████████████████████████████| 14.5 MB 8.3 kB/s \n",
            "\u001b[?25hCollecting pandas==1.0.5\n",
            "  Downloading pandas-1.0.5-cp37-cp37m-manylinux1_x86_64.whl (10.1 MB)\n",
            "\u001b[K     |████████████████████████████████| 10.1 MB 37.4 MB/s \n",
            "\u001b[?25hRequirement already satisfied: python-dateutil>=2.6.1 in /usr/local/lib/python3.7/dist-packages (from pandas==1.0.5->lazypredict) (2.8.2)\n",
            "Requirement already satisfied: pytz>=2017.2 in /usr/local/lib/python3.7/dist-packages (from pandas==1.0.5->lazypredict) (2018.9)\n",
            "Requirement already satisfied: wcwidth in /usr/local/lib/python3.7/dist-packages (from pytest==5.4.3->lazypredict) (0.2.5)\n",
            "Collecting pluggy<1.0,>=0.12\n",
            "  Downloading pluggy-0.13.1-py2.py3-none-any.whl (18 kB)\n",
            "Requirement already satisfied: attrs>=17.4.0 in /usr/local/lib/python3.7/dist-packages (from pytest==5.4.3->lazypredict) (21.2.0)\n",
            "Requirement already satisfied: more-itertools>=4.0.0 in /usr/local/lib/python3.7/dist-packages (from pytest==5.4.3->lazypredict) (8.10.0)\n",
            "Requirement already satisfied: py>=1.5.0 in /usr/local/lib/python3.7/dist-packages (from pytest==5.4.3->lazypredict) (1.10.0)\n",
            "Requirement already satisfied: importlib-metadata>=0.12 in /usr/local/lib/python3.7/dist-packages (from pytest==5.4.3->lazypredict) (4.8.1)\n",
            "Requirement already satisfied: packaging in /usr/local/lib/python3.7/dist-packages (from pytest==5.4.3->lazypredict) (21.0)\n",
            "Collecting threadpoolctl>=2.0.0\n",
            "  Downloading threadpoolctl-3.0.0-py3-none-any.whl (14 kB)\n",
            "Requirement already satisfied: typing-extensions>=3.6.4 in /usr/local/lib/python3.7/dist-packages (from importlib-metadata>=0.12->pytest==5.4.3->lazypredict) (3.7.4.3)\n",
            "Requirement already satisfied: zipp>=0.5 in /usr/local/lib/python3.7/dist-packages (from importlib-metadata>=0.12->pytest==5.4.3->lazypredict) (3.6.0)\n",
            "Requirement already satisfied: pyparsing>=2.0.2 in /usr/local/lib/python3.7/dist-packages (from packaging->pytest==5.4.3->lazypredict) (2.4.7)\n",
            "Building wheels for collected packages: PyYAML\n",
            "  Building wheel for PyYAML (setup.py) ... \u001b[?25l\u001b[?25hdone\n",
            "  Created wheel for PyYAML: filename=PyYAML-5.3.1-cp37-cp37m-linux_x86_64.whl size=44635 sha256=f2a9852b282fd5f7c23128dc770b17f75d847dc1a2fe7fe7ece9a3d3e8fc4a94\n",
            "  Stored in directory: /root/.cache/pip/wheels/5e/03/1e/e1e954795d6f35dfc7b637fe2277bff021303bd9570ecea653\n",
            "Successfully built PyYAML\n",
            "Installing collected packages: numpy, threadpoolctl, scipy, joblib, scikit-learn, pluggy, xgboost, tqdm, PyYAML, pytest, pandas, lightgbm, lazypredict\n",
            "  Attempting uninstall: numpy\n",
            "    Found existing installation: numpy 1.19.5\n",
            "    Uninstalling numpy-1.19.5:\n",
            "      Successfully uninstalled numpy-1.19.5\n",
            "  Attempting uninstall: scipy\n",
            "    Found existing installation: scipy 1.4.1\n",
            "    Uninstalling scipy-1.4.1:\n",
            "      Successfully uninstalled scipy-1.4.1\n",
            "  Attempting uninstall: joblib\n",
            "    Found existing installation: joblib 1.0.1\n",
            "    Uninstalling joblib-1.0.1:\n",
            "      Successfully uninstalled joblib-1.0.1\n",
            "  Attempting uninstall: scikit-learn\n",
            "    Found existing installation: scikit-learn 0.22.2.post1\n",
            "    Uninstalling scikit-learn-0.22.2.post1:\n",
            "      Successfully uninstalled scikit-learn-0.22.2.post1\n",
            "  Attempting uninstall: pluggy\n",
            "    Found existing installation: pluggy 0.7.1\n",
            "    Uninstalling pluggy-0.7.1:\n",
            "      Successfully uninstalled pluggy-0.7.1\n",
            "  Attempting uninstall: xgboost\n",
            "    Found existing installation: xgboost 0.90\n",
            "    Uninstalling xgboost-0.90:\n",
            "      Successfully uninstalled xgboost-0.90\n",
            "  Attempting uninstall: tqdm\n",
            "    Found existing installation: tqdm 4.62.3\n",
            "    Uninstalling tqdm-4.62.3:\n",
            "      Successfully uninstalled tqdm-4.62.3\n",
            "  Attempting uninstall: PyYAML\n",
            "    Found existing installation: PyYAML 3.13\n",
            "    Uninstalling PyYAML-3.13:\n",
            "      Successfully uninstalled PyYAML-3.13\n",
            "  Attempting uninstall: pytest\n",
            "    Found existing installation: pytest 3.6.4\n",
            "    Uninstalling pytest-3.6.4:\n",
            "      Successfully uninstalled pytest-3.6.4\n",
            "  Attempting uninstall: pandas\n",
            "    Found existing installation: pandas 1.1.5\n",
            "    Uninstalling pandas-1.1.5:\n",
            "      Successfully uninstalled pandas-1.1.5\n",
            "  Attempting uninstall: lightgbm\n",
            "    Found existing installation: lightgbm 2.2.3\n",
            "    Uninstalling lightgbm-2.2.3:\n",
            "      Successfully uninstalled lightgbm-2.2.3\n",
            "\u001b[31mERROR: pip's dependency resolver does not currently take into account all the packages that are installed. This behaviour is the source of the following dependency conflicts.\n",
            "tensorflow 2.6.0 requires numpy~=1.19.2, but you have numpy 1.19.1 which is incompatible.\n",
            "google-colab 1.0.0 requires pandas~=1.1.0; python_version >= \"3.0\", but you have pandas 1.0.5 which is incompatible.\n",
            "datascience 0.10.6 requires folium==0.2.1, but you have folium 0.8.3 which is incompatible.\n",
            "albumentations 0.1.12 requires imgaug<0.2.7,>=0.2.5, but you have imgaug 0.2.9 which is incompatible.\u001b[0m\n",
            "Successfully installed PyYAML-5.3.1 joblib-1.0.0 lazypredict-0.2.9 lightgbm-2.3.1 numpy-1.19.1 pandas-1.0.5 pluggy-0.13.1 pytest-5.4.3 scikit-learn-0.23.1 scipy-1.5.4 threadpoolctl-3.0.0 tqdm-4.56.0 xgboost-1.1.1\n"
          ]
        },
        {
          "output_type": "display_data",
          "data": {
            "application/vnd.colab-display-data+json": {
              "pip_warning": {
                "packages": [
                  "numpy",
                  "pandas"
                ]
              }
            }
          },
          "metadata": {}
        }
      ]
    },
    {
      "cell_type": "code",
      "metadata": {
        "id": "roIxFG4VKgM2"
      },
      "source": [
        "import lazypredict"
      ],
      "execution_count": 1,
      "outputs": []
    },
    {
      "cell_type": "code",
      "metadata": {
        "id": "9_yoWDsFKgPC"
      },
      "source": [
        "import numpy as np\n",
        "import pandas as pd\n",
        "import seaborn as sns\n",
        "import sklearn as sk\n",
        "import matplotlib.pyplot as plt"
      ],
      "execution_count": 2,
      "outputs": []
    },
    {
      "cell_type": "code",
      "metadata": {
        "colab": {
          "base_uri": "https://localhost:8080/"
        },
        "id": "5HEqt5Y-KgRn",
        "outputId": "1f105319-5534-47ca-fd74-df77aa38a80d"
      },
      "source": [
        "from lazypredict.Supervised import LazyClassifier, LazyRegressor\n",
        "from sklearn.model_selection import train_test_split\n",
        "from sklearn import datasets"
      ],
      "execution_count": 3,
      "outputs": [
        {
          "output_type": "stream",
          "name": "stderr",
          "text": [
            "/usr/local/lib/python3.7/dist-packages/sklearn/utils/deprecation.py:143: FutureWarning: The sklearn.utils.testing module is  deprecated in version 0.22 and will be removed in version 0.24. The corresponding classes / functions should instead be imported from sklearn.utils. Anything that cannot be imported from sklearn.utils is now part of the private API.\n",
            "  warnings.warn(message, FutureWarning)\n"
          ]
        }
      ]
    },
    {
      "cell_type": "code",
      "metadata": {
        "id": "E7ISdgKyKgTv"
      },
      "source": [
        "df=pd.read_csv('Nu Data BTP - Sheet2.csv')"
      ],
      "execution_count": 6,
      "outputs": []
    },
    {
      "cell_type": "code",
      "metadata": {
        "colab": {
          "base_uri": "https://localhost:8080/",
          "height": 226
        },
        "id": "8ThpNSubKgWE",
        "outputId": "871d6389-68e8-4baf-ee63-9eec9106e43a"
      },
      "source": [
        "df.head()"
      ],
      "execution_count": 7,
      "outputs": [
        {
          "output_type": "execute_result",
          "data": {
            "text/html": [
              "<div>\n",
              "<style scoped>\n",
              "    .dataframe tbody tr th:only-of-type {\n",
              "        vertical-align: middle;\n",
              "    }\n",
              "\n",
              "    .dataframe tbody tr th {\n",
              "        vertical-align: top;\n",
              "    }\n",
              "\n",
              "    .dataframe thead th {\n",
              "        text-align: right;\n",
              "    }\n",
              "</style>\n",
              "<table border=\"1\" class=\"dataframe\">\n",
              "  <thead>\n",
              "    <tr style=\"text-align: right;\">\n",
              "      <th></th>\n",
              "      <th>TF</th>\n",
              "      <th>Re</th>\n",
              "      <th>TL_OUT</th>\n",
              "      <th>TU_OUT</th>\n",
              "      <th>Tb</th>\n",
              "      <th>Tb_max</th>\n",
              "      <th>PL_in</th>\n",
              "      <th>PL_out</th>\n",
              "      <th>PU_in</th>\n",
              "      <th>PU_out</th>\n",
              "      <th>hi</th>\n",
              "      <th>wc</th>\n",
              "      <th>ho</th>\n",
              "      <th>Dhi</th>\n",
              "      <th>Dho</th>\n",
              "      <th>Dh_m</th>\n",
              "      <th>vin</th>\n",
              "      <th>del_PL</th>\n",
              "      <th>del_PU</th>\n",
              "      <th>del_p</th>\n",
              "      <th>Rth</th>\n",
              "      <th>T_mean</th>\n",
              "      <th>h_mean</th>\n",
              "      <th>f</th>\n",
              "      <th>Nu</th>\n",
              "    </tr>\n",
              "  </thead>\n",
              "  <tbody>\n",
              "    <tr>\n",
              "      <th>0</th>\n",
              "      <td>0.26</td>\n",
              "      <td>200</td>\n",
              "      <td>297.44</td>\n",
              "      <td>295.19</td>\n",
              "      <td>302.45</td>\n",
              "      <td>303.53</td>\n",
              "      <td>41208.00</td>\n",
              "      <td>216.97</td>\n",
              "      <td>41208.00</td>\n",
              "      <td>215.59</td>\n",
              "      <td>833.33</td>\n",
              "      <td>100</td>\n",
              "      <td>216.67</td>\n",
              "      <td>178.57</td>\n",
              "      <td>136.84</td>\n",
              "      <td>157.71</td>\n",
              "      <td>1.13</td>\n",
              "      <td>40991.03</td>\n",
              "      <td>40992.41</td>\n",
              "      <td>40991.72</td>\n",
              "      <td>0.10</td>\n",
              "      <td>294.73</td>\n",
              "      <td>129575.64</td>\n",
              "      <td>0.26</td>\n",
              "      <td>34.06</td>\n",
              "    </tr>\n",
              "    <tr>\n",
              "      <th>1</th>\n",
              "      <td>0.28</td>\n",
              "      <td>200</td>\n",
              "      <td>297.49</td>\n",
              "      <td>295.22</td>\n",
              "      <td>302.50</td>\n",
              "      <td>303.58</td>\n",
              "      <td>38459.00</td>\n",
              "      <td>189.69</td>\n",
              "      <td>38458.00</td>\n",
              "      <td>188.56</td>\n",
              "      <td>820.31</td>\n",
              "      <td>100</td>\n",
              "      <td>229.69</td>\n",
              "      <td>178.27</td>\n",
              "      <td>139.34</td>\n",
              "      <td>158.80</td>\n",
              "      <td>1.13</td>\n",
              "      <td>38269.31</td>\n",
              "      <td>38269.44</td>\n",
              "      <td>38269.38</td>\n",
              "      <td>0.10</td>\n",
              "      <td>294.75</td>\n",
              "      <td>129073.89</td>\n",
              "      <td>0.24</td>\n",
              "      <td>34.16</td>\n",
              "    </tr>\n",
              "    <tr>\n",
              "      <th>2</th>\n",
              "      <td>0.30</td>\n",
              "      <td>200</td>\n",
              "      <td>297.55</td>\n",
              "      <td>295.25</td>\n",
              "      <td>302.54</td>\n",
              "      <td>303.63</td>\n",
              "      <td>36143.00</td>\n",
              "      <td>167.35</td>\n",
              "      <td>36143.00</td>\n",
              "      <td>167.49</td>\n",
              "      <td>807.69</td>\n",
              "      <td>100</td>\n",
              "      <td>242.31</td>\n",
              "      <td>177.97</td>\n",
              "      <td>141.57</td>\n",
              "      <td>159.77</td>\n",
              "      <td>1.13</td>\n",
              "      <td>35975.65</td>\n",
              "      <td>35975.51</td>\n",
              "      <td>35975.58</td>\n",
              "      <td>0.10</td>\n",
              "      <td>294.77</td>\n",
              "      <td>128783.00</td>\n",
              "      <td>0.23</td>\n",
              "      <td>34.29</td>\n",
              "    </tr>\n",
              "    <tr>\n",
              "      <th>3</th>\n",
              "      <td>0.32</td>\n",
              "      <td>200</td>\n",
              "      <td>297.60</td>\n",
              "      <td>295.29</td>\n",
              "      <td>302.59</td>\n",
              "      <td>303.68</td>\n",
              "      <td>34168.00</td>\n",
              "      <td>148.95</td>\n",
              "      <td>34167.00</td>\n",
              "      <td>149.05</td>\n",
              "      <td>795.45</td>\n",
              "      <td>100</td>\n",
              "      <td>254.55</td>\n",
              "      <td>177.66</td>\n",
              "      <td>143.59</td>\n",
              "      <td>160.63</td>\n",
              "      <td>1.13</td>\n",
              "      <td>34019.05</td>\n",
              "      <td>34017.95</td>\n",
              "      <td>34018.50</td>\n",
              "      <td>0.11</td>\n",
              "      <td>294.80</td>\n",
              "      <td>128328.52</td>\n",
              "      <td>0.21</td>\n",
              "      <td>34.36</td>\n",
              "    </tr>\n",
              "    <tr>\n",
              "      <th>4</th>\n",
              "      <td>0.34</td>\n",
              "      <td>200</td>\n",
              "      <td>297.65</td>\n",
              "      <td>295.32</td>\n",
              "      <td>302.63</td>\n",
              "      <td>303.72</td>\n",
              "      <td>32462.00</td>\n",
              "      <td>133.97</td>\n",
              "      <td>32461.00</td>\n",
              "      <td>133.73</td>\n",
              "      <td>783.58</td>\n",
              "      <td>100</td>\n",
              "      <td>266.42</td>\n",
              "      <td>177.36</td>\n",
              "      <td>145.42</td>\n",
              "      <td>161.39</td>\n",
              "      <td>1.13</td>\n",
              "      <td>32328.03</td>\n",
              "      <td>32327.27</td>\n",
              "      <td>32327.65</td>\n",
              "      <td>0.11</td>\n",
              "      <td>294.82</td>\n",
              "      <td>128000.00</td>\n",
              "      <td>0.20</td>\n",
              "      <td>34.43</td>\n",
              "    </tr>\n",
              "  </tbody>\n",
              "</table>\n",
              "</div>"
            ],
            "text/plain": [
              "    TF   Re  TL_OUT  TU_OUT     Tb  ...  Rth  T_mean    h_mean    f    Nu\n",
              "0 0.26  200  297.44  295.19 302.45  ... 0.10  294.73 129575.64 0.26 34.06\n",
              "1 0.28  200  297.49  295.22 302.50  ... 0.10  294.75 129073.89 0.24 34.16\n",
              "2 0.30  200  297.55  295.25 302.54  ... 0.10  294.77 128783.00 0.23 34.29\n",
              "3 0.32  200  297.60  295.29 302.59  ... 0.11  294.80 128328.52 0.21 34.36\n",
              "4 0.34  200  297.65  295.32 302.63  ... 0.11  294.82 128000.00 0.20 34.43\n",
              "\n",
              "[5 rows x 25 columns]"
            ]
          },
          "metadata": {},
          "execution_count": 7
        }
      ]
    },
    {
      "cell_type": "code",
      "metadata": {
        "id": "iKp4ql0JKgYR"
      },
      "source": [
        ""
      ],
      "execution_count": null,
      "outputs": []
    },
    {
      "cell_type": "code",
      "metadata": {
        "id": "wBtJt_MzKgan"
      },
      "source": [
        ""
      ],
      "execution_count": null,
      "outputs": []
    },
    {
      "cell_type": "code",
      "metadata": {
        "id": "3zyYhpzdKgcw"
      },
      "source": [
        ""
      ],
      "execution_count": null,
      "outputs": []
    },
    {
      "cell_type": "code",
      "metadata": {
        "id": "j3uiqoYGKggP"
      },
      "source": [
        ""
      ],
      "execution_count": null,
      "outputs": []
    }
  ]
}